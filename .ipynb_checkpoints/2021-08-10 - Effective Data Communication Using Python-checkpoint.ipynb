{
 "cells": [
  {
   "cell_type": "markdown",
   "id": "7ef8cbb3",
   "metadata": {},
   "source": [
    "[<img src=\"FS_wiki.png\" width=\"200\" height=\"240\" align=\"left\"/>](https://flatironschool.com/)"
   ]
  },
  {
   "cell_type": "markdown",
   "id": "0d430ea2",
   "metadata": {},
   "source": [
    "# Effective Data Communication Using Python"
   ]
  },
  {
   "cell_type": "markdown",
   "id": "154b56ef",
   "metadata": {},
   "source": [
    "## Dr. Chester Ismay"
   ]
  },
  {
   "cell_type": "markdown",
   "id": "18c9353b",
   "metadata": {},
   "source": [
    "### Director of Data Science Education, Flatiron School"
   ]
  },
  {
   "cell_type": "markdown",
   "id": "ed6bf24c",
   "metadata": {},
   "source": [
    "### 2021-08-10\n",
    "\n",
    "Repo available at: https://bit.ly/ismay-edc-repo"
   ]
  },
  {
   "cell_type": "markdown",
   "id": "d7822e44",
   "metadata": {},
   "source": [
    "---"
   ]
  },
  {
   "cell_type": "markdown",
   "id": "aec42a48",
   "metadata": {},
   "source": [
    "### About me"
   ]
  },
  {
   "cell_type": "markdown",
   "id": "5836269f",
   "metadata": {},
   "source": [
    "![](az.jpg)"
   ]
  },
  {
   "cell_type": "markdown",
   "id": "c2ea6910",
   "metadata": {},
   "source": [
    "![](stat.jpg)"
   ]
  },
  {
   "cell_type": "markdown",
   "id": "4dfcdc03",
   "metadata": {},
   "source": [
    "![](r-python.jpeg)"
   ]
  },
  {
   "cell_type": "markdown",
   "id": "155543cc",
   "metadata": {},
   "source": [
    "- Co-author of the [fivethirtyeight](https://fivethirtyeight-r.netlify.app/) R package\n",
    "- Co-author of a textbook on getting started with statistics and data science in R at https://www.moderndive.com.\n",
    "- Currently, live in beautiful (and later this week...very hot) [Portland, Oregon](https://www.travelportland.com/)\n",
    "\n",
    "Connect with me\n",
    "- on [LinkedIn](https://www.linkedin.com/in/chesterismay/),\n",
    "- on [Twitter](https://twitter.com/old_man_chester), or\n",
    "- via [my webpage](http://chester.rbind.io/)."
   ]
  },
  {
   "cell_type": "markdown",
   "id": "7f9a9c51",
   "metadata": {},
   "source": [
    "## Theme for today"
   ]
  },
  {
   "cell_type": "markdown",
   "id": "3c903266",
   "metadata": {},
   "source": [
    "![](plane.jpg)"
   ]
  },
  {
   "cell_type": "markdown",
   "id": "b55dff43",
   "metadata": {},
   "source": [
    "### Learning objectives"
   ]
  },
  {
   "cell_type": "markdown",
   "id": "8f39c755",
   "metadata": {},
   "source": [
    "- How to use the pandas package to wrangle your data\n",
    "- How to create static and interactive visualizations\n",
    "- Some tips on conveying information with data effectively\n",
    "- What to look out for with “bad” visualizations\n",
    "\n",
    "Some bonus tips\n",
    "- Debugging errors (I've left some errors throughout the notebook for us to fix together)\n",
    "    - A solution file will be added to the repo after the workshop too\n",
    "- Extra resources will be shared after covering learning objectives too"
   ]
  },
  {
   "cell_type": "markdown",
   "id": "a392311c",
   "metadata": {},
   "source": [
    "### Basics of Jupyter notebook"
   ]
  },
  {
   "cell_type": "markdown",
   "id": "4fed96e5",
   "metadata": {},
   "source": [
    "- [Literate programming](https://en.wikipedia.org/wiki/Literate_programming)\n",
    "- [Markdown cells](https://jupyter-notebook.readthedocs.io/en/stable/examples/Notebook/Working%20With%20Markdown%20Cells.html)\n",
    "- [Code cells](https://jupyter-notebook.readthedocs.io/en/stable/examples/Notebook/Running%20Code.html)\n",
    "- [Getting help](https://jupyter-notebook.readthedocs.io/en/stable/notebook.html)\n",
    "    - [Tips and tricks](https://towardsdatascience.com/optimizing-jupyter-notebook-tips-tricks-and-nbextensions-26d75d502663)\n",
    "    - Help menu, Keyboard shortcuts\n",
    "    - [?, ??, tab-complete](https://jakevdp.github.io/PythonDataScienceHandbook/01.01-help-and-documentation.html)"
   ]
  },
  {
   "cell_type": "markdown",
   "id": "efa5a94d",
   "metadata": {},
   "source": [
    "### Load packages"
   ]
  },
  {
   "cell_type": "code",
   "execution_count": null,
   "id": "8695b44f",
   "metadata": {},
   "outputs": [],
   "source": [
    "# Install packages\n",
    "# !pip install pandas\n",
    "# !pip install plotly"
   ]
  },
  {
   "cell_type": "code",
   "execution_count": null,
   "id": "99928362",
   "metadata": {},
   "outputs": [],
   "source": [
    "# Load packages to use their functionality\n",
    "import pandas as pd\n",
    "import plotly.express as px"
   ]
  },
  {
   "cell_type": "markdown",
   "id": "f1c69004",
   "metadata": {},
   "source": [
    "### Load and cleanup data"
   ]
  },
  {
   "cell_type": "markdown",
   "id": "c735421c",
   "metadata": {},
   "source": [
    "The data comes from <https://github.com/fivethirtyeight/data/tree/master/flying-etiquette-survey>. As linked there, this is the data behind the story [41 Percent of Fliers Say It’s Rude To Recline Your Airplane Seat](http://fivethirtyeight.com/datalab/airplane-etiquette-recline-seat). It's from all the way back in 2014, but can provide some insight into how people view different things passengers do on airplanes."
   ]
  },
  {
   "cell_type": "code",
   "execution_count": null,
   "id": "167fdb38",
   "metadata": {},
   "outputs": [],
   "source": [
    "# Read in CSV file as a pandas DataFrame\n",
    "flying_survey_raw = pd.read_csv(\"flying-etiquette.csv\")"
   ]
  },
  {
   "cell_type": "code",
   "execution_count": null,
   "id": "57eea9f1",
   "metadata": {},
   "outputs": [],
   "source": [
    "# Look over the names of the columns in the data\n",
    "list(flying_survey_raw.columns)"
   ]
  },
  {
   "cell_type": "markdown",
   "id": "230fe821",
   "metadata": {},
   "source": [
    "We can see that these column names, while very informative as to the question asked, might be a little annoying to deal with over and over again as we code. Let's rename them to be a little more manageable.\n",
    "\n",
    "Note that there are a couple of misspellings here as well with words running together that could cause us issues."
   ]
  },
  {
   "cell_type": "code",
   "execution_count": null,
   "id": "ac03795a",
   "metadata": {},
   "outputs": [],
   "source": [
    "?flying_survey_raw.rename\n",
    "# Scroll down to examples"
   ]
  },
  {
   "cell_type": "code",
   "execution_count": null,
   "id": "9e476073",
   "metadata": {},
   "outputs": [],
   "source": [
    "# Use the .rename() method from pandas\n",
    "# The original column name comes before the colon, the new name after\n",
    "flying_survey_cleaned = flying_survey_raw.rename(\n",
    "    columns={\"RespondentID\": \"respondent_id\",\n",
    "             \"Gender\": \"gender\",\n",
    "             \"Household Income\": \"household_income\",\n",
    "             \"Age\": \"age\",\n",
    "             \"Income\": \"income\",\n",
    "             \"Education\": \"education\",\n",
    "             \"Location (Census Region)\": \"location\",\n",
    "             \"How often do you travel by plane?\": \"frequency\",\n",
    "             \"Do you ever recline your seat when you fly?\": \"recline_frequency\",\n",
    "             \"How tall are you?\": \"height\",\n",
    "             \"Do you have any children under 18?\": \"children_under_18\",\n",
    "             \"In a row of three seats, who should get to use the two arm rests?\": \"two_arm_rests\",\n",
    "             \"In a row of two seats, who should get to use the middle arm rest?\": \"middle_arm_rest\",\n",
    "             \"Who should have control over the window shade?\": \"window_shade\",\n",
    "             \"Is itrude to move to an unsold seat on a plane?\": \"unsold_seat\",\n",
    "             \"Generally speaking, is it rude to say more than a few words tothe stranger sitting next to you on a plane?\": \"talk_stranger\",\n",
    "             \"On a 6 hour flight from NYC to LA, how many times is it acceptable to get up if you're not in an aisle seat?\": \"get_up\",\n",
    "             \"Under normal circumstances, does a person who reclines their seat during a flight have any obligation to the person sitting behind them?\": \"recline_obligation\",\n",
    "             \"Is itrude to recline your seat on a plane?\": \"recline_rude\",\n",
    "             \"Given the opportunity, would you eliminate the possibility of reclining seats on planes entirely?\": \"recline_eliminate\",\n",
    "             \"Is it rude to ask someone to switch seats with you in order to be closer to friends?\": \"switch_seats_friends\",\n",
    "             \"Is itrude to ask someone to switch seats with you in order to be closer to family?\": \"switch_seats_family\",\n",
    "             \"Is it rude to wake a passenger up if you are trying to go to the bathroom?\": \"wake_up_bathroom\",\n",
    "             \"Is itrude to wake a passenger up if you are trying to walk around?\": \"wake_up_walk\",\n",
    "             \"In general, is itrude to bring a baby on a plane?\": \"baby\",\n",
    "             \"In general, is it rude to knowingly bring unruly children on a plane?\": \"unruly_child\",\n",
    "             \"Have you ever used personal electronics during take off or landing in violation of a flight attendant's direction?\": \"electronics\",\n",
    "             \"Have you ever smoked a cigarette in an airplane bathroom when it was against the rules?\": \"smoked\"\n",
    "            }\n",
    ")"
   ]
  },
  {
   "cell_type": "code",
   "execution_count": null,
   "id": "2a197c81",
   "metadata": {},
   "outputs": [],
   "source": [
    "# How many (rows, columns) are in the data?\n",
    "flying_survey_cleaned.shape"
   ]
  },
  {
   "cell_type": "code",
   "execution_count": null,
   "id": "5391d703",
   "metadata": {
    "scrolled": true
   },
   "outputs": [],
   "source": [
    "# List the newly named column names\n",
    "list(flying_survey_cleaned.cols)"
   ]
  },
  {
   "cell_type": "markdown",
   "id": "1400efc9",
   "metadata": {},
   "source": [
    "#### Poll Question 1\n",
    "\n",
    "If you want to rename a column from `old_name` to `new_name`, which of the following is the correct syntax to the `columns` argument of the `.rename()` method in `pandas`?\n",
    "\n",
    "A. `\"old_name\": \"new_name\"`  \n",
    "B. `\"new_name\": \"old_name\"`  \n",
    "C. Either order works  \n",
    "D. None of the above are correct  "
   ]
  },
  {
   "cell_type": "code",
   "execution_count": null,
   "id": "00d77bbd",
   "metadata": {},
   "outputs": [],
   "source": [
    "# Take a peek at the first 5 rows and last 5 rows\n",
    "# of the data with new column names\n",
    "flying_survey_cleaned"
   ]
  },
  {
   "cell_type": "markdown",
   "id": "2a5857d7",
   "metadata": {},
   "source": [
    "**Questions**: What does a row correspond to? In other words, the different columns are measuring/characteristics of what??\n",
    "- Respond in the Zoom chat by changing from Everyone to Panelists (so to not influence others)"
   ]
  },
  {
   "cell_type": "markdown",
   "id": "42c071d8",
   "metadata": {},
   "source": [
    "The article focuses only on those of the 1040 that have flown (874). Let's use `pandas` to filter out those that haven't flown too."
   ]
  },
  {
   "cell_type": "code",
   "execution_count": null,
   "id": "070539f3",
   "metadata": {},
   "outputs": [],
   "source": [
    "# The .value_counts() method shows how many rows had each of the\n",
    "# different options for flying frequency\n",
    "flying_survey_cleaned[\"frequency\"].value_counts()"
   ]
  },
  {
   "cell_type": "code",
   "execution_count": null,
   "id": "a0997325",
   "metadata": {},
   "outputs": [],
   "source": [
    "# Focus on those that have flown before\n",
    "flying_survey = flying_survey_cleaned[\"frequency\" != \"Never\"]"
   ]
  },
  {
   "cell_type": "code",
   "execution_count": null,
   "id": "2a4a3d89",
   "metadata": {},
   "outputs": [],
   "source": [
    "# Focus on those that have flown before\n",
    "flying_survey = flying_survey_cleaned[flying_survey_cleaned[\"frequency\"] != \"Never\"]"
   ]
  },
  {
   "cell_type": "code",
   "execution_count": null,
   "id": "fac88af8",
   "metadata": {},
   "outputs": [],
   "source": [
    "# Output new counts\n",
    "flying_survey[\"frequency\"].value_counts()"
   ]
  },
  {
   "cell_type": "code",
   "execution_count": null,
   "id": "b30c98ab",
   "metadata": {},
   "outputs": [],
   "source": [
    "# Why does this subsetting in the [] work?\n",
    "flying_survey_cleaned[\"frequency\"] != \"Never\""
   ]
  },
  {
   "cell_type": "code",
   "execution_count": null,
   "id": "281d3399",
   "metadata": {},
   "outputs": [],
   "source": [
    "# How many (rows, columns) in this filtered data?\n",
    "flying_survey.shape"
   ]
  },
  {
   "cell_type": "code",
   "execution_count": null,
   "id": "c80b104f",
   "metadata": {},
   "outputs": [],
   "source": [
    "# Explore some properties of the columns of data\n",
    "flying_survey.describe()"
   ]
  },
  {
   "cell_type": "code",
   "execution_count": null,
   "id": "041f2509",
   "metadata": {},
   "outputs": [],
   "source": [
    "# Examine the help for the .describe() method for a DataFrame\n",
    "help(flying_survey.describe)"
   ]
  },
  {
   "cell_type": "code",
   "execution_count": null,
   "id": "6dbf6e83",
   "metadata": {},
   "outputs": [],
   "source": [
    "# `include=\"all\"` shows results for all columns \n",
    "# (not just the default of numeric columns)\n",
    "flying_survey.describe(include=\"all\")"
   ]
  },
  {
   "cell_type": "markdown",
   "id": "09eb5fcd",
   "metadata": {},
   "source": [
    "Let's start to look through some of the other columns and their values:"
   ]
  },
  {
   "cell_type": "code",
   "execution_count": null,
   "id": "1b8e27fe",
   "metadata": {},
   "outputs": [],
   "source": [
    "# How often do you recline?\n",
    "# Absolute counts\n",
    "flying_survey[\"recline_frequency\"].value_counts()"
   ]
  },
  {
   "cell_type": "code",
   "execution_count": null,
   "id": "f47eb2c8",
   "metadata": {},
   "outputs": [],
   "source": [
    "# Relative frequencies\n",
    "flying_survey[\"recline_frequency\"].value_counts(normalize=True) * 100"
   ]
  },
  {
   "cell_type": "code",
   "execution_count": null,
   "id": "11fb4e8b",
   "metadata": {},
   "outputs": [],
   "source": [
    "# Is it rude to wake up those in your aisle to use the bathroom?\n",
    "flying_survey[\"wake_up_bathroom\"].value_counts(normalize=True) * 100"
   ]
  },
  {
   "cell_type": "code",
   "execution_count": null,
   "id": "d32b2f42",
   "metadata": {},
   "outputs": [],
   "source": [
    "# Is it rude to bring an unruly child on the plane?\n",
    "flying_survey[\"unruly_child\"].value_counts(normalize=True) * 100"
   ]
  },
  {
   "cell_type": "code",
   "execution_count": null,
   "id": "51c743f5",
   "metadata": {},
   "outputs": [],
   "source": [
    "# Is it rude to bring a baby on the plane?\n",
    "flying_survey[\"baby\"].value_counts(normalize=True) * 100"
   ]
  },
  {
   "cell_type": "markdown",
   "id": "ee8ea5f6",
   "metadata": {},
   "source": [
    "#### Poll Question 2\n",
    "\n",
    "Why are relative frequencies sometimes a better metric than actual counts?\n",
    "\n",
    "A. Relative frequencies show the total number of occurrences in each group, whereas actual counts are divided by the total number of rows.  \n",
    "B. The actual counts are always going to be percentage values.   \n",
    "C. Relative frequencies allow for comparisons across groups/columns to be easier.    \n",
    "D. None of the above are correct  "
   ]
  },
  {
   "cell_type": "markdown",
   "id": "d6c870a6",
   "metadata": {},
   "source": [
    "### Summarize data and explore it further"
   ]
  },
  {
   "cell_type": "markdown",
   "id": "ea197e9f",
   "metadata": {},
   "source": [
    "Walk through some of the analysis done in Python from the article:"
   ]
  },
  {
   "cell_type": "code",
   "execution_count": null,
   "id": "b899dd62",
   "metadata": {},
   "outputs": [],
   "source": [
    "# Show how many people fall into the different categories\n",
    "# of having a young child versus feelings on bringing\n",
    "# an unruly child on a plane\n",
    "parent_by_unruly = pd.crosstab(\n",
    "    index=flying_survey[\"children_under_18\"],\n",
    "    columns=flying_survey[\"unruly_child\"],\n",
    "    margins=True\n",
    ")\n",
    "parent_by_unruly"
   ]
  },
  {
   "cell_type": "code",
   "execution_count": null,
   "id": "9bc227cc",
   "metadata": {},
   "outputs": [],
   "source": [
    "# Show the percentage breakdowns across each row\n",
    "pd.crosstab(\n",
    "    index=flying_survey[\"children_under_18\"],\n",
    "    columns=flying_survey[\"unruly_child\"],\n",
    "    normalize='index'\n",
    ") * 100"
   ]
  },
  {
   "cell_type": "markdown",
   "id": "f0462f85",
   "metadata": {},
   "source": [
    "### Learning objectives (recap)"
   ]
  },
  {
   "cell_type": "markdown",
   "id": "4f02dca5",
   "metadata": {},
   "source": [
    "- _How to use the pandas package to wrangle your data_\n",
    "    - Additional references:\n",
    "        - [Pandas documentation](https://pandas.pydata.org/pandas-docs/stable/index.html)\n",
    "        - [Pandas for Everyone book](https://www.powells.com/book/pandas-for-everyone-python-data-analysis-9780134546933)\n",
    "        - [Pandas Cheat Sheet](https://pandas.pydata.org/Pandas_Cheat_Sheet.pdf)\n",
    "- How to create static and interactive visualizations\n",
    "- Some tips on conveying information with data effectively\n",
    "- What to look out for with “bad” visualizations"
   ]
  },
  {
   "cell_type": "markdown",
   "id": "20f7f2ee",
   "metadata": {},
   "source": [
    "---"
   ]
  },
  {
   "cell_type": "markdown",
   "id": "c469ff71",
   "metadata": {},
   "source": [
    "### Visualize relationships in the data"
   ]
  },
  {
   "cell_type": "markdown",
   "id": "6791bca9",
   "metadata": {},
   "source": [
    "Going further as the article suggests:"
   ]
  },
  {
   "cell_type": "markdown",
   "id": "c93ede35",
   "metadata": {},
   "source": [
    "Question of interest\n",
    "- How do different age groups feel about the person in front of them reclining?"
   ]
  },
  {
   "cell_type": "code",
   "execution_count": null,
   "id": "f64b87f5",
   "metadata": {},
   "outputs": [],
   "source": [
    "age_by_recline_perc = pd.crosstab(\n",
    "    index=flying_survey[\"age\"],\n",
    "    columns=flying_survey[\"recline_rude\"],\n",
    "    normalize='index'\n",
    ") * 100\n",
    "age_by_recline_perc"
   ]
  },
  {
   "cell_type": "code",
   "execution_count": null,
   "id": "a2ae6504",
   "metadata": {},
   "outputs": [],
   "source": [
    "# Visualize 'Is reclining rude?' across all age groups\n",
    "flying_survey[\"recline_rude\"].value_counts().plot(kind=\"bar\")"
   ]
  },
  {
   "cell_type": "code",
   "execution_count": null,
   "id": "cc0a8c7f",
   "metadata": {},
   "outputs": [],
   "source": [
    "# Visualize 'Is reclining rude?' across all age groups\n",
    "flying_survey[\"recline_rude\"].value_counts().plot(kind=\"barh\");"
   ]
  },
  {
   "cell_type": "code",
   "execution_count": null,
   "id": "536ce5ae",
   "metadata": {},
   "outputs": [],
   "source": [
    "# Visualize \"Is reclining rude?\" within each age group\n",
    "age_by_recline_perc.plot(kind=\"barh\", stacked=True);"
   ]
  },
  {
   "cell_type": "code",
   "execution_count": null,
   "id": "33eee708",
   "metadata": {},
   "outputs": [],
   "source": [
    "# Add some style to the plot\n",
    "age_by_recline_plot = age_by_recline_perc.plot(\n",
    "    kind=\"barh\", \n",
    "    stacked=True,\n",
    "    title=\"Age level versus Rudeness of reclining opinion\",\n",
    "    figsize=(10, 3)\n",
    ")\n",
    "age_by_recline_plot.set_xlabel(\"Percentage\")\n",
    "age_by_recline_plot.set_xlabel(\"Age (Years)\");"
   ]
  },
  {
   "cell_type": "markdown",
   "id": "f8a15e7c",
   "metadata": {},
   "source": [
    "### Interactive data visualization to drill down"
   ]
  },
  {
   "cell_type": "code",
   "execution_count": null,
   "id": "db3d1ba5",
   "metadata": {},
   "outputs": [],
   "source": [
    "# Load plotly\n",
    "import plotly.graph_objects as go\n",
    "\n",
    "# Initiate data list for figure\n",
    "plotly_data = []\n",
    "\n",
    "# Use a for loop on every column to create bar data\n",
    "for x in age_by_recline_perc.columns:\n",
    "   plotly_data.append(\n",
    "       go.Bar(name=str(x), \n",
    "              x=age_by_recline_perc.index, \n",
    "              y=age_by_recline_perc[x]))\n",
    "\n",
    "# Create visualization and stack the bars on top of each other\n",
    "figure = go.Figure(plotly_data)\n",
    "figure.update_layout(barmode = 'stack')"
   ]
  },
  {
   "cell_type": "code",
   "execution_count": null,
   "id": "8c1edc1a",
   "metadata": {},
   "outputs": [],
   "source": [
    "# Might be nicer to see the bars next to each other instead\n",
    "figure.update_layout(barmode=\"group\")"
   ]
  },
  {
   "cell_type": "markdown",
   "id": "1449b4ed",
   "metadata": {},
   "source": [
    "Now let's try to answer:\n",
    "\n",
    "Question of interest\n",
    "- How do different age groups feel about the person in front of them reclining?"
   ]
  },
  {
   "cell_type": "markdown",
   "id": "fb002853",
   "metadata": {},
   "source": [
    "### Learning objectives (second recap)"
   ]
  },
  {
   "cell_type": "markdown",
   "id": "7b5bb4fd",
   "metadata": {},
   "source": [
    "- _How to use the pandas package to wrangle your data_\n",
    "    - Additional references:\n",
    "        - [Pandas documentation](https://pandas.pydata.org/pandas-docs/stable/index.html)\n",
    "        - [Pandas for Everyone book](https://www.powells.com/book/pandas-for-everyone-python-data-analysis-9780134546933)\n",
    "        - [Pandas Cheat Sheet](https://pandas.pydata.org/Pandas_Cheat_Sheet.pdf)\n",
    "- _How to create static and interactive visualizations_\n",
    "    - Additional references:\n",
    "        - [Pandas chart visualization documentation](https://pandas.pydata.org/pandas-docs/stable/user_guide/visualization.html)\n",
    "        - [Plotly barchart documention](https://plotly.com/python/bar-charts/)\n",
    "- Some tips on conveying information with data effectively\n",
    "- What to look out for with “bad” visualizations"
   ]
  },
  {
   "cell_type": "markdown",
   "id": "a77aa632",
   "metadata": {},
   "source": [
    "---"
   ]
  },
  {
   "cell_type": "markdown",
   "id": "f6686b16",
   "metadata": {},
   "source": [
    "### Tips on communicating with data"
   ]
  },
  {
   "cell_type": "markdown",
   "id": "fd7b445e",
   "metadata": {},
   "source": [
    "1. Almost always add some discussion of the key findings of your plot immediately following your plot.\n",
    "    - Don't assume your audience knows the data as well as you do (They rarely if ever do)\n",
    "1. Highlight the key points you want the reader to understand often with supporting evidence.\n",
    "1. Label your axes and include a sensible legend.\n",
    "1. Use your plots to tell the story you want to tell, but..."
   ]
  },
  {
   "cell_type": "markdown",
   "id": "abec73b0",
   "metadata": {},
   "source": [
    "<u>**DO NOT just pull out whatever you can to match your narrative, ignoring everything else!**</u>"
   ]
  },
  {
   "cell_type": "markdown",
   "id": "5d82b64a",
   "metadata": {},
   "source": [
    "### Avoiding...ugh...bad visualizations"
   ]
  },
  {
   "cell_type": "markdown",
   "id": "02bc41e4",
   "metadata": {},
   "source": [
    "Highly recommend the [r/dataisugly](https://www.reddit.com/r/dataisugly/) subreddit. Let's review a couple really bad graphics and identify what is bad about them."
   ]
  },
  {
   "cell_type": "markdown",
   "id": "a3007777",
   "metadata": {},
   "source": [
    "[![](bad-us-golds.png)](https://www.reddit.com/r/dataisugly/comments/oxvu09/25_usa_gold_medals_32_chinese_gold_medals/?utm_source=share&utm_medium=ios_app&utm_name=iossmf)"
   ]
  },
  {
   "cell_type": "markdown",
   "id": "b14a37f4",
   "metadata": {},
   "source": [
    "[![](heat-wave-bad.png)](https://www.reddit.com/r/dataisugly/comments/p0gzaz/what_temperature_is_gray_again_theres_like_three/?utm_source=share&utm_medium=ios_app&utm_name=iossmf)"
   ]
  },
  {
   "cell_type": "markdown",
   "id": "9386d12b",
   "metadata": {},
   "source": [
    "[![](gymnasts-bad.jpg)](https://www.reddit.com/r/dataisugly/comments/owtpew/they_did_a_linear_regression_on_champion_gymnast/?utm_source=share&utm_medium=ios_app&utm_name=iossmf)"
   ]
  },
  {
   "cell_type": "markdown",
   "id": "21e757a3",
   "metadata": {},
   "source": [
    "The more popular [r/dataisbeautiful](https://www.reddit.com/r/dataisbeautiful/) subreddit does have some nice plots, but can sometimes be a little too complex for my personal taste. For example..."
   ]
  },
  {
   "cell_type": "markdown",
   "id": "c79e3333",
   "metadata": {},
   "source": [
    "[![](2020-golds.png)](https://www.reddit.com/r/dataisbeautiful/comments/p0awgr/oc_a_photofinish_race_for_the_most_gold_medals_at/)"
   ]
  },
  {
   "cell_type": "markdown",
   "id": "1d1cc78c",
   "metadata": {},
   "source": [
    "### Learning objectives review"
   ]
  },
  {
   "cell_type": "markdown",
   "id": "60653151",
   "metadata": {},
   "source": [
    "- _How to use the pandas package to wrangle your data_\n",
    "    - Additional references:\n",
    "        - [Pandas documentation](https://pandas.pydata.org/pandas-docs/stable/index.html)\n",
    "        - [Pandas for Everyone book](https://www.powells.com/book/pandas-for-everyone-python-data-analysis-9780134546933)\n",
    "        - [Pandas Cheat Sheet](https://pandas.pydata.org/Pandas_Cheat_Sheet.pdf)\n",
    "- _How to create static and interactive visualizations_\n",
    "    - Additional references:\n",
    "        - [Pandas chart visualization documentation](https://pandas.pydata.org/pandas-docs/stable/user_guide/visualization.html)\n",
    "        - [Plotly barchart documention](https://plotly.com/python/bar-charts/)\n",
    "- _Some tips on conveying information with data effectively_\n",
    "    - Additional references:\n",
    "        - [Creating More Effective Graphs book](https://www.nbr-graphs.com/resources/recommended-books/)\n",
    "        - [The Power in Effective Data Storytelling video](https://www.youtube.com/watch?v=0e52QfQngrM)\n",
    "        - [200 years in 4 minutes video](https://www.youtube.com/watch?v=Z8t4k0Q8e8Y)\n",
    "- _What to look out for with “bad” visualizations_\n",
    "    - Additional references:\n",
    "        - [How to spot a misleading graph video](https://www.youtube.com/watch?v=E91bGT9BjYk)\n",
    "        - [The 27 Worst Charts of All Time (article from 2013)](https://www.businessinsider.com/the-27-worst-charts-of-all-time-2013-6)"
   ]
  },
  {
   "cell_type": "markdown",
   "id": "f36d7eb6",
   "metadata": {},
   "source": [
    "### Next steps"
   ]
  },
  {
   "cell_type": "markdown",
   "id": "b16fc1c0",
   "metadata": {},
   "source": [
    "- Do opinions change based on location?\n",
    "- Do opinions vary based on household income?\n",
    "- What other visualizations might be helpful here?"
   ]
  },
  {
   "cell_type": "markdown",
   "id": "80c74d94",
   "metadata": {},
   "source": [
    "## Thanks for attending!"
   ]
  },
  {
   "cell_type": "markdown",
   "id": "4c2f8565",
   "metadata": {},
   "source": [
    "[![](thanks.gif)](https://media.giphy.com/media/229ORmLCNmURn1tqnJ/giphy.gif)"
   ]
  },
  {
   "cell_type": "markdown",
   "id": "4e625682",
   "metadata": {},
   "source": [
    "Connect with me\n",
    "- on [LinkedIn](https://www.linkedin.com/in/chesterismay/),\n",
    "- on [Twitter](https://twitter.com/old_man_chester), or\n",
    "- via [my webpage](http://chester.rbind.io/)."
   ]
  },
  {
   "cell_type": "markdown",
   "id": "02403d90",
   "metadata": {},
   "source": [
    "Check for solutions coming soon at https://github.com/learn-co-curriculum/dsc-effective-data-communication"
   ]
  },
  {
   "cell_type": "code",
   "execution_count": null,
   "id": "a3a04116",
   "metadata": {},
   "outputs": [],
   "source": []
  }
 ],
 "metadata": {
  "kernelspec": {
   "display_name": "Python 3",
   "language": "python",
   "name": "python3"
  },
  "language_info": {
   "codemirror_mode": {
    "name": "ipython",
    "version": 3
   },
   "file_extension": ".py",
   "mimetype": "text/x-python",
   "name": "python",
   "nbconvert_exporter": "python",
   "pygments_lexer": "ipython3",
   "version": "3.8.8"
  }
 },
 "nbformat": 4,
 "nbformat_minor": 5
}
